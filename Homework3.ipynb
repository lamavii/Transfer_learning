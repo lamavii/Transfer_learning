{
  "cells": [
    {
      "cell_type": "markdown",
      "id": "ec77f4f5",
      "metadata": {
        "id": "ec77f4f5"
      },
      "source": [
        "# Упрощаем использование TL. Фреймворк Huggingface"
      ]
    },
    {
      "cell_type": "markdown",
      "id": "312fe8e1",
      "metadata": {
        "id": "312fe8e1"
      },
      "source": [
        "\n",
        "Нам понадобится библиотека transformers."
      ]
    },
    {
      "cell_type": "markdown",
      "id": "767c43a2",
      "metadata": {
        "id": "767c43a2"
      },
      "source": [
        "# Домашнее задание\n",
        "\n",
        "Реализуйте классификацию эмоциональной окрашенности текстов при помощи объекта pipeline.\n",
        "\n",
        "1. Найдите тип задач Sentiment Analysis на huggingface.co\n",
        "2. Найдите модель для русского языка (примеры: rubert-tiny2..., rubert-base...)"
      ]
    },
    {
      "cell_type": "code",
      "source": [
        "from transformers import AutoTokenizer, AutoModelForSequenceClassification, pipeline\n",
        "\n",
        "# Загружаем токенизатор и модель\n",
        "tokenizer = AutoTokenizer.from_pretrained(\"cointegrated/rubert-tiny2-cedr-emotion-detection\")\n",
        "model = AutoModelForSequenceClassification.from_pretrained(\"cointegrated/rubert-tiny2-cedr-emotion-detection\")\n",
        "\n",
        "# Создаем объект pipeline\n",
        "classifier = pipeline(\"sentiment-analysis\", model=model, tokenizer=tokenizer)\n",
        "\n",
        "# Классифицируем текст\n",
        "result = classifier(\"\"\"И вспоминай меня таким, каким ты хочешь. Не стой на ветру, не теряйся в нем. Все проходит, и это тоже пройдет. Ты сильнее, чем думаешь.\n",
        "Взгляни на мир с другой стороны. Улыбнись и иди дальше. Держись, все будет хорошо.\"\"\")\n",
        "\n",
        "# Печатаем результат\n",
        "print(result)\n"
      ],
      "metadata": {
        "colab": {
          "base_uri": "https://localhost:8080/"
        },
        "id": "GVCsFWr4Sx2e",
        "outputId": "e799b6b8-fecb-45d9-8065-cd0d1507f52c"
      },
      "id": "GVCsFWr4Sx2e",
      "execution_count": null,
      "outputs": [
        {
          "output_type": "stream",
          "name": "stdout",
          "text": [
            "[{'label': 'joy', 'score': 0.7815959453582764}]\n"
          ]
        }
      ]
    },
    {
      "cell_type": "code",
      "source": [
        "# Классифицируем текст\n",
        "result = classifier(\"\"\"Самый худший день настал уже с утра. Ехать неохота, долго притаился Но необходимо было взяться за дело Ну и ладно, будь то будь, что есть то не изменить\"\"\")"
      ],
      "metadata": {
        "id": "e9dCNZuqTx_e"
      },
      "id": "e9dCNZuqTx_e",
      "execution_count": null,
      "outputs": []
    },
    {
      "cell_type": "code",
      "source": [
        "\n",
        "# Печатаем результат\n",
        "result"
      ],
      "metadata": {
        "colab": {
          "base_uri": "https://localhost:8080/"
        },
        "id": "kc6gakwzTzLe",
        "outputId": "147f1b86-e50e-463b-9b8f-a4c666704ed9"
      },
      "id": "kc6gakwzTzLe",
      "execution_count": null,
      "outputs": [
        {
          "output_type": "execute_result",
          "data": {
            "text/plain": [
              "[{'label': 'sadness', 'score': 0.9746282696723938}]"
            ]
          },
          "metadata": {},
          "execution_count": 13
        }
      ]
    },
    {
      "cell_type": "code",
      "source": [
        "# Классифицируем текст\n",
        "result = classifier(\"\"\" Я огонь — ты вода\n",
        "Вместе мы не разлей коса\n",
        "Я сольюсь, и ты сольёшь\n",
        "Я огонь — ты вода\n",
        "А мы есть, что есть\n",
        "Тебе повезёт\n",
        "И мне достаёт\"\"\")"
      ],
      "metadata": {
        "id": "qVudLanNUrLP"
      },
      "id": "qVudLanNUrLP",
      "execution_count": null,
      "outputs": []
    },
    {
      "cell_type": "code",
      "source": [
        "\n",
        "# Печатаем результат\n",
        "result"
      ],
      "metadata": {
        "colab": {
          "base_uri": "https://localhost:8080/"
        },
        "id": "-8tbMxvSU_TO",
        "outputId": "1a08eae1-51ad-49f5-9914-2dc9d00ecccc"
      },
      "id": "-8tbMxvSU_TO",
      "execution_count": null,
      "outputs": [
        {
          "output_type": "execute_result",
          "data": {
            "text/plain": [
              "[{'label': 'joy', 'score': 0.968743622303009}]"
            ]
          },
          "metadata": {},
          "execution_count": 15
        }
      ]
    }
  ],
  "metadata": {
    "kernelspec": {
      "display_name": "Python 3 (ipykernel)",
      "language": "python",
      "name": "python3"
    },
    "language_info": {
      "codemirror_mode": {
        "name": "ipython",
        "version": 3
      },
      "file_extension": ".py",
      "mimetype": "text/x-python",
      "name": "python",
      "nbconvert_exporter": "python",
      "pygments_lexer": "ipython3",
      "version": "3.11.5"
    },
    "colab": {
      "provenance": []
    }
  },
  "nbformat": 4,
  "nbformat_minor": 5
}